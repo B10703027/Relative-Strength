{
 "cells": [
  {
   "cell_type": "code",
   "execution_count": 1,
   "id": "95e8c59b",
   "metadata": {},
   "outputs": [],
   "source": [
    "import pandas as pd"
   ]
  },
  {
   "cell_type": "code",
   "execution_count": 2,
   "id": "f7374310",
   "metadata": {},
   "outputs": [],
   "source": [
    "df = pd.read_csv(r\"C:\\Users\\User\\Downloads\\股價資料(2024-02-02).csv\", header=None)\n",
    "df = df[0].str.split(\" \", expand=True)\n",
    "df.columns = [\"Date\", \"Ticker\", \"Close\", \"Drop\"]\n",
    "df[\"Date\"] = df[\"Date\"].astype(str).str.slice(0, 8)\n",
    "df[\"Date\"] = pd.to_datetime(df[\"Date\"], format='%Y%m%d')\n",
    "df[\"Ticker\"] = df[\"Ticker\"].astype(str).str.slice(0, 4)\n",
    "df[\"Close\"] = df[\"Close\"].astype(float)\n",
    "df = df.drop([\"Drop\"], axis=1)"
   ]
  },
  {
   "cell_type": "code",
   "execution_count": 3,
   "id": "1c80e412",
   "metadata": {},
   "outputs": [
    {
     "data": {
      "text/html": [
       "<div>\n",
       "<style scoped>\n",
       "    .dataframe tbody tr th:only-of-type {\n",
       "        vertical-align: middle;\n",
       "    }\n",
       "\n",
       "    .dataframe tbody tr th {\n",
       "        vertical-align: top;\n",
       "    }\n",
       "\n",
       "    .dataframe thead th {\n",
       "        text-align: right;\n",
       "    }\n",
       "</style>\n",
       "<table border=\"1\" class=\"dataframe\">\n",
       "  <thead>\n",
       "    <tr style=\"text-align: right;\">\n",
       "      <th></th>\n",
       "      <th>Date</th>\n",
       "      <th>Ticker</th>\n",
       "      <th>Close</th>\n",
       "    </tr>\n",
       "  </thead>\n",
       "  <tbody>\n",
       "    <tr>\n",
       "      <th>0</th>\n",
       "      <td>2022-01-13</td>\n",
       "      <td>9958</td>\n",
       "      <td>116.0</td>\n",
       "    </tr>\n",
       "    <tr>\n",
       "      <th>1</th>\n",
       "      <td>2022-01-14</td>\n",
       "      <td>9958</td>\n",
       "      <td>115.0</td>\n",
       "    </tr>\n",
       "    <tr>\n",
       "      <th>2</th>\n",
       "      <td>2022-01-17</td>\n",
       "      <td>9958</td>\n",
       "      <td>114.0</td>\n",
       "    </tr>\n",
       "    <tr>\n",
       "      <th>3</th>\n",
       "      <td>2022-01-18</td>\n",
       "      <td>9958</td>\n",
       "      <td>115.5</td>\n",
       "    </tr>\n",
       "    <tr>\n",
       "      <th>4</th>\n",
       "      <td>2022-01-19</td>\n",
       "      <td>9958</td>\n",
       "      <td>112.5</td>\n",
       "    </tr>\n",
       "    <tr>\n",
       "      <th>...</th>\n",
       "      <td>...</td>\n",
       "      <td>...</td>\n",
       "      <td>...</td>\n",
       "    </tr>\n",
       "    <tr>\n",
       "      <th>881561</th>\n",
       "      <td>2024-01-29</td>\n",
       "      <td>3293</td>\n",
       "      <td>825.0</td>\n",
       "    </tr>\n",
       "    <tr>\n",
       "      <th>881562</th>\n",
       "      <td>2024-01-30</td>\n",
       "      <td>3293</td>\n",
       "      <td>831.0</td>\n",
       "    </tr>\n",
       "    <tr>\n",
       "      <th>881563</th>\n",
       "      <td>2024-01-31</td>\n",
       "      <td>3293</td>\n",
       "      <td>830.0</td>\n",
       "    </tr>\n",
       "    <tr>\n",
       "      <th>881564</th>\n",
       "      <td>2024-02-01</td>\n",
       "      <td>3293</td>\n",
       "      <td>836.0</td>\n",
       "    </tr>\n",
       "    <tr>\n",
       "      <th>881565</th>\n",
       "      <td>2024-02-02</td>\n",
       "      <td>3293</td>\n",
       "      <td>838.0</td>\n",
       "    </tr>\n",
       "  </tbody>\n",
       "</table>\n",
       "<p>881566 rows × 3 columns</p>\n",
       "</div>"
      ],
      "text/plain": [
       "             Date Ticker  Close\n",
       "0      2022-01-13   9958  116.0\n",
       "1      2022-01-14   9958  115.0\n",
       "2      2022-01-17   9958  114.0\n",
       "3      2022-01-18   9958  115.5\n",
       "4      2022-01-19   9958  112.5\n",
       "...           ...    ...    ...\n",
       "881561 2024-01-29   3293  825.0\n",
       "881562 2024-01-30   3293  831.0\n",
       "881563 2024-01-31   3293  830.0\n",
       "881564 2024-02-01   3293  836.0\n",
       "881565 2024-02-02   3293  838.0\n",
       "\n",
       "[881566 rows x 3 columns]"
      ]
     },
     "execution_count": 3,
     "metadata": {},
     "output_type": "execute_result"
    }
   ],
   "source": [
    "df"
   ]
  },
  {
   "cell_type": "code",
   "execution_count": 4,
   "id": "bb5b76dc",
   "metadata": {},
   "outputs": [],
   "source": [
    "df.to_csv(\"Stock_Price_Feb02_2024\", index=False)"
   ]
  }
 ],
 "metadata": {
  "kernelspec": {
   "display_name": "Python 3 (ipykernel)",
   "language": "python",
   "name": "python3"
  },
  "language_info": {
   "codemirror_mode": {
    "name": "ipython",
    "version": 3
   },
   "file_extension": ".py",
   "mimetype": "text/x-python",
   "name": "python",
   "nbconvert_exporter": "python",
   "pygments_lexer": "ipython3",
   "version": "3.11.4"
  }
 },
 "nbformat": 4,
 "nbformat_minor": 5
}
